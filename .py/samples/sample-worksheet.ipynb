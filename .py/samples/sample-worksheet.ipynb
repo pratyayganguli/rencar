{
 "cells": [
  {
   "cell_type": "code",
   "execution_count": null,
   "id": "19bbe5f6",
   "metadata": {},
   "outputs": [],
   "source": [
    "# Import all the modules\n",
    "\n",
    "import mysql.connector\n",
    "\n",
    "print(\"All the modules are imported\")"
   ]
  },
  {
   "cell_type": "code",
   "execution_count": null,
   "id": "bc3cd30b",
   "metadata": {},
   "outputs": [],
   "source": [
    "# Create a connection to fetch data from a MySQL database\n",
    "\n",
    "host = \"127.0.0.1\"\n",
    "database = \"rencar_db\"\n",
    "user = \"root\"\n",
    "password = \"root\"\n",
    "conn = mysql.connector.connect(user = user, password = password, host = host, database = database)\n",
    "\n",
    "print(\"Database Connection Successfull\")"
   ]
  },
  {
   "cell_type": "code",
   "execution_count": null,
   "id": "da64b604",
   "metadata": {},
   "outputs": [],
   "source": [
    "# Write a function to generate random mail id\n",
    "import random\n",
    "import time \n",
    "\n",
    "usernames = [\n",
    "    \"maddy\", \"supercoder\", \"jerem\", \"loaderonfire\", \"funlover\", \"owaser\", \"xedtime\", \"asmrgamble\", \"fireinhead\",\n",
    "    \"bedtimesnore\", \"errorinlife\", \"gesturesarereal\", \"puppiesreal\", \"getiddone\", \"laughhard\", \"roxyaneio\", \n",
    "    \"teslacars\", \"humanlypossible\", \"yesover\", \"blowedoff\", \"imposedinjury\", \"iistechnical\", \"cneasp\", \"medicalcanfunc\",\n",
    "    \"zwgetter\"\n",
    "]\n",
    "\n",
    "def generateRandomMail():\n",
    "    return usernames[random.randint(0, len(usernames)-1)] +\"{0}\".format(random.randint(100, 999)) + \"@mail.com\"\n",
    "\n",
    "while(1):\n",
    "    print(generateRandomMail())\n",
    "    time.sleep(1)\n"
   ]
  },
  {
   "cell_type": "code",
   "execution_count": null,
   "id": "75703c44",
   "metadata": {},
   "outputs": [],
   "source": []
  }
 ],
 "metadata": {
  "kernelspec": {
   "display_name": "Python 3 (ipykernel)",
   "language": "python",
   "name": "python3"
  },
  "language_info": {
   "codemirror_mode": {
    "name": "ipython",
    "version": 3
   },
   "file_extension": ".py",
   "mimetype": "text/x-python",
   "name": "python",
   "nbconvert_exporter": "python",
   "pygments_lexer": "ipython3",
   "version": "3.9.7"
  }
 },
 "nbformat": 4,
 "nbformat_minor": 5
}
