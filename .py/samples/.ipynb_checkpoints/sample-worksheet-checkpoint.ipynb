{
 "cells": [
  {
   "cell_type": "code",
   "execution_count": 2,
   "id": "19bbe5f6",
   "metadata": {},
   "outputs": [
    {
     "name": "stdout",
     "output_type": "stream",
     "text": [
      "All the modules are imported\n"
     ]
    }
   ],
   "source": [
    "# Import all the modules\n",
    "\n",
    "import mysql.connector\n",
    "\n",
    "print(\"All the modules are imported\")"
   ]
  },
  {
   "cell_type": "code",
   "execution_count": 3,
   "id": "bc3cd30b",
   "metadata": {},
   "outputs": [
    {
     "name": "stdout",
     "output_type": "stream",
     "text": [
      "Connection Successful\n"
     ]
    }
   ],
   "source": [
    "# Create a connection to fetch data from a MySQL database\n",
    "\n",
    "host = \"127.0.0.1\"\n",
    "database = \"rencar_db\"\n",
    "user = \"root\"\n",
    "password = \"root\"\n",
    "conn = mysql.connector.connect(user = user, password = password, host = host, database = database)\n",
    "\n",
    "print(\"Database Connection Successfull\")"
   ]
  },
  {
   "cell_type": "code",
   "execution_count": null,
   "id": "da64b604",
   "metadata": {},
   "outputs": [],
   "source": []
  }
 ],
 "metadata": {
  "kernelspec": {
   "display_name": "Python 3 (ipykernel)",
   "language": "python",
   "name": "python3"
  },
  "language_info": {
   "codemirror_mode": {
    "name": "ipython",
    "version": 3
   },
   "file_extension": ".py",
   "mimetype": "text/x-python",
   "name": "python",
   "nbconvert_exporter": "python",
   "pygments_lexer": "ipython3",
   "version": "3.9.7"
  }
 },
 "nbformat": 4,
 "nbformat_minor": 5
}
